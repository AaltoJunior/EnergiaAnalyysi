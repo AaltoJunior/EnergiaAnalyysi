{
  "nbformat": 4,
  "nbformat_minor": 0,
  "metadata": {
    "colab": {
      "provenance": [],
      "authorship_tag": "ABX9TyMOt2w8k9uMQdu2zlYTcu9F"
    },
    "kernelspec": {
      "name": "python3",
      "display_name": "Python 3"
    },
    "language_info": {
      "name": "python"
    }
  },
  "cells": [
    {
      "cell_type": "code",
      "source": [
        "# Tämä on kommentti\n",
        "Olen_muuttuja = \"Minuun on tallennettu dataa\"\n"
      ],
      "metadata": {
        "id": "QXNtgOnv7kNQ"
      },
      "execution_count": 1,
      "outputs": []
    },
    {
      "cell_type": "code",
      "execution_count": null,
      "metadata": {
        "id": "RnCN3-jR7Rej"
      },
      "outputs": [],
      "source": [
        "# Aloitetaan lataamalla käytettävä data EU:lta\n",
        "!curl --insecure \"https://ec.europa.eu/eurostat/api/dissemination/sdmx/2.1/data/nrg_cb_pem?format=SDMX-CSV&compressed=false\" > estat_nrg_cb_pem_en.csv\n",
        "!curl --insecure \"https://dd.eionet.europa.eu/vocabulary/eurostat/siec/csv\" > siec.csv"
      ]
    },
    {
      "cell_type": "code",
      "source": [
        "# Tuodaan tarvittavat kirjastot datan käsittelyä varten\n",
        "import pandas as pd\n",
        "import matplotlib.pyplot as plt\n",
        "pd.set_option('display.max_colwidth', None) # Poistetaan pandas kirjaston maksimi sarakkeen pituus"
      ],
      "metadata": {
        "id": "LpsLT13p7ZDN"
      },
      "execution_count": 3,
      "outputs": []
    },
    {
      "cell_type": "code",
      "source": [
        "# Tallennetaan energiadata muuttujaan \"data\"\n",
        "data = pd.read_csv(\"estat_nrg_cb_pem_en.csv\")\n",
        "# Tallennetaan SIEC koodit, jotka kertovat meille mistä energialähteestä on kyse\n",
        "codes = pd.read_csv(\"siec.csv\")"
      ],
      "metadata": {
        "id": "ge77YDi27a79"
      },
      "execution_count": 4,
      "outputs": []
    },
    {
      "cell_type": "code",
      "source": [
        "# Valitaan oma maa ja tallennetaan sen maa koodi muuttujaan. Muista \"\"-merkit\n",
        "maa = \"FI\"\n",
        "# Tuodaan maan data meidän energia datasta ja tallennetaan se muuttujaan\n",
        "maa_data = data.loc[data[\"geo\"] == maa]\n",
        "maa_data.loc[:,'TIME_PERIOD'] = pd.to_datetime(maa_data['TIME_PERIOD'])"
      ],
      "metadata": {
        "id": "cnsC3dl-8FCR"
      },
      "execution_count": null,
      "outputs": []
    },
    {
      "cell_type": "code",
      "source": [
        "s = {\"C0000\": \"Coal and manufactured gases\", \"CF\": \"Combustible fuels\", \"CF_NR\": \"Combustible fuels - non-renewable\", \"CF_R\": \"Combustible fuels - renewable\", \"G3000\": \"Natural gas\", \"N9000\": \"Nuclear fuels and other fuels n.e.c.\", \"O4000XBIO\": \"Oil and petroleum products (excluding biofuel portion)\", \"RA100\": \"Hydro\", \"RA110\": \"Pure hydro power\", \"RA120\": \"Mixed hydro power\", \"RA130\": \"Pumped hydro power\", \"RA200\": \"Geothermal\", \"RA300\": \"Wind\", \"RA310\": \"Wind on shore\", \"RA320\": \"Wind off shore\", \"RA400\": \"Solar\", \"RA410\": \"Solar thermal\", \"RA420\": \"Solar photovoltaic\", \"RA500_5160\": \"Other renewable energies\", \"TOTAL\": \"Total\", \"X9900\": \"Other fuels n.e.c.\"}\n",
        "\n",
        "\n",
        "plt.figure(figsize=(16,10), dpi=500)\n",
        "\n",
        "for i in maa_data[\"siec\"].unique():\n",
        "    plt.plot(maa_data.loc[maa_data[\"siec\"] == i].TIME_PERIOD, maa_data.loc[maa_data[\"siec\"] == i].OBS_VALUE, label=i)\n",
        "\n",
        "plt.legend()\n",
        "plt.grid( linestyle=':', linewidth=1, axis=\"y\")\n",
        "plt.gca().set(title=f\"{maa}: Energiamuodot\", xlabel=\"Päivämäärä\",ylabel=\"GWH\")"
      ],
      "metadata": {
        "id": "umJTGvym70CQ"
      },
      "execution_count": null,
      "outputs": []
    }
  ]
}