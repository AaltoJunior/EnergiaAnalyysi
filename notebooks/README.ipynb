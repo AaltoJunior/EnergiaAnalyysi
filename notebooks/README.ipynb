{
 "cells": [
  {
   "cell_type": "markdown",
   "id": "cfda4863",
   "metadata": {},
   "source": [
    "# Energiadatan analysointi ja visualisointi\n",
    "\n",
    "Suomenkieleiseen työpajaan pääset [tästä](FI/fi_energia_data.ipynb)"
   ]
  }
 ],
 "metadata": {
  "language_info": {
   "name": "python"
  }
 },
 "nbformat": 4,
 "nbformat_minor": 5
}
