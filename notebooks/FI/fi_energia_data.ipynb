{
 "cells": [
  {
   "cell_type": "markdown",
   "id": "eBu1mspn_FlH",
   "metadata": {
    "id": "eBu1mspn_FlH"
   },
   "source": [
    "# Datan visualisointi käytetyistä energialähteistä Euroopassa"
   ]
  },
  {
   "cell_type": "markdown",
   "id": "nJEaqvz8_FZX",
   "metadata": {
    "id": "nJEaqvz8_FZX"
   },
   "source": [
    "Tässä Jupyter-notebookissa koodi ja tekstisisältö on jaoteltu lohkoittain. Lohkoja on mahdollista ajaa askel kerrallaan järjestyksessä painamalla näppäimiä [shift] + [enter]\n",
    "\n",
    "Muista edetä järjestyksessä, koska osa koodista voi olla riippuvaista koodista joka on kirjoitettu aiempaan lohkoon!"
   ]
  },
  {
   "cell_type": "code",
   "execution_count": null,
   "id": "xqkxVXFoPukn",
   "metadata": {
    "id": "xqkxVXFoPukn"
   },
   "outputs": [],
   "source": [
    "# Aloitetaan lataamalla käytettävä EU:n avoin data palvelusta\n",
    "!curl --insecure \"https://ec.europa.eu/eurostat/api/dissemination/sdmx/2.1/data/nrg_cb_pem?format=SDMX-CSV&compressed=false\" > estat_nrg_cb_pem_en.csv\n",
    "!curl --insecure \"https://dd.eionet.europa.eu/vocabulary/eurostat/siec/csv\" > siec.csv"
   ]
  },
  {
   "cell_type": "code",
   "execution_count": null,
   "id": "97BUo1m351Fl",
   "metadata": {
    "id": "97BUo1m351Fl"
   },
   "outputs": [],
   "source": [
    "# Asetetaan taulukot näkymään vasemmalla"
   ]
  },
  {
   "cell_type": "code",
   "execution_count": null,
   "id": "ARz0WZOwtHwu",
   "metadata": {
    "id": "ARz0WZOwtHwu"
   },
   "outputs": [],
   "source": [
    "%%html\n",
    "<style>\n",
    "  table {margin-left: 0 !important;}\n",
    "</style>"
   ]
  },
  {
   "cell_type": "code",
   "execution_count": null,
   "id": "c2c0582d-9bde-4325-90f1-0c2c25121f89",
   "metadata": {
    "id": "c2c0582d-9bde-4325-90f1-0c2c25121f89",
    "tags": []
   },
   "outputs": [],
   "source": [
    "# Tuodaan tarvittavat kirjastot datan käsittelyä varten\n",
    "import pandas as pd\n",
    "import matplotlib.pyplot as plt\n",
    "pd.set_option('display.max_colwidth', None) # Poistetaan pandas kirjaston maksimi sarakkeen pituus"
   ]
  },
  {
   "cell_type": "code",
   "execution_count": null,
   "id": "a7ff007b-8cab-4abb-a504-439c41b4cff9",
   "metadata": {
    "id": "a7ff007b-8cab-4abb-a504-439c41b4cff9",
    "tags": []
   },
   "outputs": [],
   "source": [
    "# Tallennetaan energiadata muuttujaan \"data\"\n",
    "data = pd.read_csv(\"estat_nrg_cb_pem_en.csv\")\n",
    "# Tallennetaan SIEC koodit, jotka kertovat meille mistä energialähteestä on kyse\n",
    "codes = pd.read_csv(\"siec.csv\")\n",
    "\n",
    "\n",
    "# Valitaan datasta vertailtavaksi Gigawattitunnit. Filtteröidään siis pois muilla yksiköillä oleva data.\n",
    "data = data[data['unit'] == 'GWH']"
   ]
  },
  {
   "cell_type": "code",
   "execution_count": null,
   "id": "f2ab34ef-3f36-441b-abc6-c360e66b8fee",
   "metadata": {
    "colab": {
     "base_uri": "https://localhost:8080/",
     "height": 204
    },
    "id": "f2ab34ef-3f36-441b-abc6-c360e66b8fee",
    "outputId": "7706a0b7-ee8d-48a1-f6c0-ace66e564626",
    "tags": []
   },
   "outputs": [],
   "source": [
    "# Tutustutaan dataan tulostamalla sen 5 ensimmäistä riviä. \n",
    "# Näin voimme varmistaa, että datan lukeminen on onnistunut\n",
    "data.head()"
   ]
  },
  {
   "cell_type": "markdown",
   "id": "gn_ofibZJZLC",
   "metadata": {
    "id": "gn_ofibZJZLC"
   },
   "source": [
    "Valitse oma maa!\n",
    "\n",
    "\n",
    "| Maakoodi | Maa |\n",
    "| --- | --- |\n",
    "| FI | Suomi |\n",
    "| SE | Ruotsi |\n",
    "| NO | Norja |\n",
    "| DK | Tanska |\n",
    "| DE | Saksa |\n",
    "| FR | Ranska |\n",
    "| ES | Espanja |\n",
    "| PT | Portugali |\n",
    "| IT | Italia |\n",
    "| PL | Puola |\n",
    "| EE | Viro |\n",
    "| LT | Latvia |\n",
    "| AT | Itävalta |\n",
    "| CZ | Tsekki |\n",
    "| BE | Belgia |\n",
    "| EL | Kreikka |\n",
    "| NL | Hollanti\n",
    "| TR | Turkki |\n",
    "| IR | Irlanti |"
   ]
  },
  {
   "cell_type": "code",
   "execution_count": null,
   "id": "f8edbf10-648a-4e90-aa0d-0f0f38feae37",
   "metadata": {
    "colab": {
     "base_uri": "https://localhost:8080/"
    },
    "id": "f8edbf10-648a-4e90-aa0d-0f0f38feae37",
    "outputId": "404d9602-9eb8-4b8c-bf74-efb3e9f2460f",
    "tags": []
   },
   "outputs": [],
   "source": [
    "# Valitaan maa ja tallennetaan kyseisen maan maakoodi muuttujaan. Muista \"\"-merkit\n",
    "maa = \"FI\"\n",
    "# Tuodaan maan data meidän energia datasta ja tallennetaan se muuttujaan\n",
    "maa_data = pd.DataFrame()\n",
    "maa_data = data.loc[data[\"geo\"] == maa]\n",
    "maa_data.loc[:,'TIME_PERIOD'] = pd.to_datetime(maa_data['TIME_PERIOD'])\n",
    "# HUOM! Aja koodi uudestaan, jos punainen error-ruutu tulee näkyviin."
   ]
  },
  {
   "cell_type": "markdown",
   "id": "LvXfykbV7PYW",
   "metadata": {
    "id": "LvXfykbV7PYW"
   },
   "source": [
    "# 1.Uusiutuvat energialähteet: Aurinkoenergia vs Tuulivoima\n",
    "Tutustutaan uusiutuviin energialähteisiin vertaamalla paljonko aurinkoenergiaa ja tuulivoimaa eri Euroopan maissa tuotetaan"
   ]
  },
  {
   "cell_type": "markdown",
   "id": "km0XCDrrCzv7",
   "metadata": {
    "id": "km0XCDrrCzv7"
   },
   "source": [
    "## 1.1 Piirretään kuvaaja tuotetusta **tuulivoimasta** ajan suhteen"
   ]
  },
  {
   "cell_type": "code",
   "execution_count": null,
   "id": "u8go3rXW63Fg",
   "metadata": {
    "id": "u8go3rXW63Fg"
   },
   "outputs": [],
   "source": [
    "# Alustetaan kuvaaja.\n",
    "fig, ax1 = plt.subplots(figsize=(12, 8))\n",
    "\n",
    "# Määritetään kuvaajan väri.\n",
    "color = 'tab:red'\n",
    "\n",
    "# Lisätään x ja y-akseleille otsikot!\n",
    "ax1.set_xlabel(\"Päivämäärä\")\n",
    "ax1.set_ylabel(\"GWh (Tuulivoima)\", color=color)\n",
    "\n",
    "# Luodaan kuvaaja annetusta datasta\n",
    "tuuli_line, = ax1.plot(maa_data.loc[maa_data[\"siec\"] == \"RA300\"].TIME_PERIOD, maa_data.loc[maa_data[\"siec\"] == \"RA300\"].OBS_VALUE, color=color)\n",
    "ax1.tick_params(axis='y', labelcolor=color)\n",
    "ax1.set_ylim(bottom=0) # Määritetään 0 y-akselin minimiksi\n",
    "\n",
    "\n",
    "plt.legend([tuuli_line], ['Tuulivoima']) # Lisätään viivalle otsikko\n",
    "plt.title(f\"{maa}: Tuulivoima (RA300)\") # Lisätään koko kuvaajalle otsikko\n",
    "plt.show() # Tulostetaan kuvaaja"
   ]
  },
  {
   "cell_type": "markdown",
   "id": "mpL9lOvyFXnY",
   "metadata": {
    "id": "mpL9lOvyFXnY"
   },
   "source": [
    "## **Kysymykset**\n",
    "1. Miltä yllä oleva kuvaaja tuulivoimasta näyttää?\n",
    "\n",
    "2. Miten tuulivoiman määrä kehittyy ajan suhteen?\n",
    "\n",
    "3. Miten vuodenajat vaikuttaa energian määrään?\n",
    "\n",
    "4. Mikä on korkein ja matalin arvo GWh:ssa?"
   ]
  },
  {
   "cell_type": "markdown",
   "id": "_9X8D7XT7b20",
   "metadata": {
    "id": "_9X8D7XT7b20"
   },
   "source": [
    "## 1.2 Piirretään kuvaaja tuotetusta **aurinkoenergiasta** ajan suhteen"
   ]
  },
  {
   "cell_type": "code",
   "execution_count": null,
   "id": "SV0598iz67_n",
   "metadata": {
    "colab": {
     "base_uri": "https://localhost:8080/",
     "height": 718
    },
    "id": "SV0598iz67_n",
    "outputId": "a91882b2-984a-43f4-c17d-44a161514ef1"
   },
   "outputs": [],
   "source": [
    "# Alustetaan kuvaaja.\n",
    "fig, ax1 = plt.subplots(figsize=(12, 8))\n",
    "\n",
    "# Määritetään kuvaajan väri\n",
    "color = 'tab:blue'\n",
    "\n",
    "# Lisätään x ja y-akseleille otsikot!\n",
    "ax1.set_xlabel(\"Päivämäärä\")\n",
    "ax1.set_ylabel(\"GWh (Aurinkovoima)\", color=color)\n",
    "\n",
    "# Luodaan kuvaaja annetusta datasta\n",
    "aurinko_line, = ax1.plot(maa_data.loc[maa_data[\"siec\"] == \"RA400\"].TIME_PERIOD, maa_data.loc[maa_data[\"siec\"] == \"RA400\"].OBS_VALUE, color=color)\n",
    "ax1.tick_params(axis='y', labelcolor=color)\n",
    "ax1.set_ylim(bottom=0) # Määritetään 0 y-akselin minimiksi\n",
    "\n",
    "plt.legend([aurinko_line], ['Aurinkovoima']) # Lisätään viivalle otsikko\n",
    "plt.title(f\"{maa}: Aurinkovoima (RA400)\") # Lisätään koko kuvaajalle otsikko\n",
    "plt.show() # Tulostetaan kuvaaja"
   ]
  },
  {
   "cell_type": "markdown",
   "id": "tWjeTQvFF-WO",
   "metadata": {
    "id": "tWjeTQvFF-WO"
   },
   "source": [
    "## **Kysymykset**\n",
    "\n",
    "1. Miltä yllä oleva kuvaaja aurinkoenergiasta näyttää?\n",
    "\n",
    "2. Miten aurinkoenergian määrä kehittyy ajan suhteen?\n",
    "\n",
    "3. Miten vuodenajat vaikuttavat energian määrään?\n",
    "\n",
    "4. Mikä on korkein ja matalin arvo GWh:ssa?\n"
   ]
  },
  {
   "cell_type": "markdown",
   "id": "VpDliF3D7t3f",
   "metadata": {
    "id": "VpDliF3D7t3f"
   },
   "source": [
    "## 1.3 Verrataan tuotettua aurinkoenergiaa ja tuulivoimaa toisiinsa\n",
    "Huomataan, että yllä olevat kuvaajat ovat hieman haastavia tulkita, sillä ne ovat erillisiä graafeja, joten piirretäänkin nämä datat samaan kuvaajaan."
   ]
  },
  {
   "cell_type": "code",
   "execution_count": null,
   "id": "LVljmpAt79XB",
   "metadata": {
    "colab": {
     "base_uri": "https://localhost:8080/",
     "height": 718
    },
    "id": "LVljmpAt79XB",
    "outputId": "18c181bf-96ab-4ac3-bb61-e0fcd2080c80"
   },
   "outputs": [],
   "source": [
    "# Alustetaan kuvaaja.\n",
    "fig, ax1 = plt.subplots(figsize=(12, 8))\n",
    "\n",
    "\n",
    "# Määritetään ensimmäisen kuvaajan väri.\n",
    "color = 'tab:red'\n",
    "\n",
    "# Lisätään x ja y-akseleille otsikot!\n",
    "ax1.set_xlabel(\"Päivämäärä\")\n",
    "ax1.set_ylabel(\"GWh (Tuulivoima)\")\n",
    "\n",
    "# Luodaan ensimmäinen kuvaaja annetusta datasta\n",
    "tuuli_line, = ax1.plot(maa_data.loc[maa_data[\"siec\"] == \"RA300\"].TIME_PERIOD, maa_data.loc[maa_data[\"siec\"] == \"RA300\"].OBS_VALUE, color=color)\n",
    "ax1.tick_params(axis='y')\n",
    "\n",
    "# Määritetään toisen kuvaajan väri.\n",
    "color = 'tab:blue'\n",
    "\n",
    "# Luodaan ensimmäinen kuvaaja annetusta datasta\n",
    "ax1.set_ylabel(\"GWh (Aurinkovoima)\")\n",
    "aurinko_line, = ax1.plot(maa_data.loc[maa_data[\"siec\"] == \"RA400\"].TIME_PERIOD, maa_data.loc[maa_data[\"siec\"] == \"RA400\"].OBS_VALUE, color=color)\n",
    "ax1.tick_params(axis='y')\n",
    "\n",
    "plt.title(f\"{maa}: Tuulivoima (RA300) ja Aurinkovoima (RA400)\") # Lisätään koko kuvaajalle otsikko\n",
    "ax1.set_ylim(bottom=0) # Määritetään 0 y-akselin minimiksi\n",
    "ax1.legend([tuuli_line, aurinko_line], ['Tuulivoima', 'Aurinkovoima']) # Lisätään viivakuvaajille otsikot\n",
    "\n",
    "plt.show() # Tulostetaan kuvaaja"
   ]
  },
  {
   "cell_type": "markdown",
   "id": "tjB6JBcQyNmM",
   "metadata": {
    "id": "tjB6JBcQyNmM"
   },
   "source": [
    "## **Kysymykset**\n",
    "1. Mitä eroja on tuulivoiman ja aurinkovoiman välillä?\n",
    "\n",
    "2. Sopiiko käytetty skaala yllä olevaan kuvaajaan?\n"
   ]
  },
  {
   "cell_type": "markdown",
   "id": "976yi4Pn88MI",
   "metadata": {
    "id": "976yi4Pn88MI"
   },
   "source": [
    "## 1.4 Skaalaus ja tulosten tarkkailu\n",
    "Nyt dataa alkaa olemaan jo helpompi tarkkailla, mutta huomaamme että tuulivoimaa ja aurinkoenergiaa on haastava verrata sillä tuulivoimaa on huomattavasti enemmän kuin aurinkoenergiaa. Piirretäänkin seuraavaksi nämä kuvaajat vielä eri skaaloilla!"
   ]
  },
  {
   "cell_type": "code",
   "execution_count": null,
   "id": "7JxRn8NZvvfP",
   "metadata": {
    "id": "7JxRn8NZvvfP"
   },
   "outputs": [],
   "source": [
    "# Alustetaan kuvaaja.\n",
    "fig, ax1 = plt.subplots(figsize=(12, 8))\n",
    "\n",
    "# Määritetään ensimmäisen kuvaajan väri.\n",
    "color = 'tab:red'\n",
    "\n",
    "# Lisätään x ja y-akseleille otsikot!\n",
    "ax1.set_xlabel(\"Päivämäärä\")\n",
    "ax1.set_ylabel(\"GWh (Tuulivoima)\", color=color)\n",
    "\n",
    "# Luodaan ensimmäinen kuvaaja annetusta datasta\n",
    "tuuli_line, = ax1.plot(maa_data.loc[maa_data[\"siec\"] == \"RA300\"].TIME_PERIOD, maa_data.loc[maa_data[\"siec\"] == \"RA300\"].OBS_VALUE, color=color)\n",
    "ax1.tick_params(axis='y', labelcolor=color)\n",
    "ax1.set_ylim(bottom=0) # Määritetään 0 y-akselin minimiksi\n",
    "\n",
    "# Luodaan toinen kuvaaja ja toinen akselisto\n",
    "ax2 = ax1.twinx()\n",
    "\n",
    "# Määritetään toisen kuvaajan väri.\n",
    "color = 'tab:blue'\n",
    "\n",
    "# Lisätään toisen kuvaajan y-akselille otsikko\n",
    "ax2.set_ylabel(\"GWh (Aurinkovoima)\", color=color)\n",
    "\n",
    "# Luodaan toinen kuvaaja annetusta datasta\n",
    "aurinko_line, = ax2.plot(maa_data.loc[maa_data[\"siec\"] == \"RA400\"].TIME_PERIOD, maa_data.loc[maa_data[\"siec\"] == \"RA400\"].OBS_VALUE, color=color)\n",
    "ax2.tick_params(axis='y', labelcolor=color)\n",
    "ax2.set_ylim(bottom=0) # Määritetään 0 y-akselin minimiksi\n",
    "\n",
    "plt.title(f\"{maa}: Tuulivoima (RA300) ja Aurinkovoima (RA400)\") # Lisätään koko kuvaajalle otsikko\n",
    "ax1.legend([tuuli_line, aurinko_line], ['Tuulivoima', 'Aurinkovoima']) # Lisätään viivakuvaajille otsikot\n",
    "plt.show() # Tulostetaan kuvaaja"
   ]
  },
  {
   "cell_type": "markdown",
   "id": "j7eUXLHa0aWL",
   "metadata": {
    "id": "j7eUXLHa0aWL"
   },
   "source": [
    "Nyt voimme tarkkailla molempia datoja samassa kuvaajassa mutta itsenäisillä skaaloilla.\n",
    "\n",
    "## **Kysymykset**\n",
    "\n",
    "1. Miten tuotettu tuulienergia eroaa tuotetusta aurinkoenergiasta GWh:n määrässä?\n",
    "\n",
    "2. Miten tuotetut energiat vaihtelevat vuodenajan mukaan?\n",
    "\n",
    "3. Miten energioiden tuotanto kehittyy ajan mukaan?\n",
    "\n",
    "4. Sopiiko nämä skaalat paremmin kuvaajaan? Miten kuvaajaa voisi vielä kehittää?\n"
   ]
  },
  {
   "cell_type": "markdown",
   "id": "Xv8yEZTNHX9x",
   "metadata": {
    "id": "Xv8yEZTNHX9x"
   },
   "source": [
    "## 1.5 Tulosten vertailu eri maiden välillä\n",
    "Vertailkaa teidän kuvaajia toisen ryhmän kanssa, joka on tarkastellut eri maan energiatuotantoa.\n",
    "\n",
    "## **Kysymykset**\n",
    "\n",
    "1. Miten teidän kuvaajat eroavat esim. kehityksessä ajan mukaan ja vuodenaikavaihteluissa energiantuotannossa?\n",
    "\n",
    "2. Missä maassa käytetään enemmän aurinkoenergiaa ja missä tuulienergiaa?\n",
    "\n",
    "3. Mikä voisi olla syy näihin eroihin?"
   ]
  },
  {
   "cell_type": "markdown",
   "id": "nx93i0spIWQK",
   "metadata": {
    "id": "nx93i0spIWQK"
   },
   "source": [
    "# 2. Kaikki käytetyt energialähteet Euroopassa\n",
    "Verrataan koko Euroopassa käytetyttyjä energialähteitä tiettyyn maahan luomalla kategorisia histogrammeja."
   ]
  },
  {
   "cell_type": "markdown",
   "id": "NL1x31iuz2wJ",
   "metadata": {
    "id": "NL1x31iuz2wJ"
   },
   "source": [
    "### Alla oleva koodi piirtää kuvaajan kaikesta datastamme"
   ]
  },
  {
   "cell_type": "code",
   "execution_count": null,
   "id": "-zZUFwCuz02H",
   "metadata": {
    "colab": {
     "base_uri": "https://localhost:8080/",
     "height": 909
    },
    "id": "-zZUFwCuz02H",
    "outputId": "4820dcb0-df8e-45b9-8d48-fcf0022ba971"
   },
   "outputs": [],
   "source": [
    "# Alustetaan muuttujat\n",
    "tot_all = {}\n",
    "date_all = []\n",
    "koodit = []\n",
    "\n",
    "# Alustetaan dictionary uniikeilla siec koodeilla\n",
    "for i in data[\"siec\"].unique():\n",
    "    tot_all[i] = 0\n",
    "\n",
    "# Täytetään siec koodien dictionary ja päivämää lista datalla\n",
    "for index, j in data.iterrows():\n",
    "    tot_all[j.get(key = \"siec\")] += float(j.get(key = \"OBS_VALUE\"))\n",
    "    date_all.append(j.get(key = \"TIME_PERIOD\"))\n",
    "\n",
    "\n",
    "# Lisätään koodit listaan siec koodien selitykset\n",
    "for i in list(tot_all.keys()):\n",
    "    koodit.append(codes.loc[codes[\"Notation\"] == i][\"Label\"].to_string(index=False))\n",
    "\n",
    "# Alustetaan kuvaaja\n",
    "fig, ax = plt.subplots(figsize=(10, 4))\n",
    "\n",
    "# Luodaan pylväsdiagrammi käsitellystä datasta\n",
    "ax.bar(koodit, list(tot_all.values()))\n",
    "\n",
    "ax.set_title(f\"Energian kokonaistuotanto Euroopan alueella vuodesta 2016 lähtien\")  # Lisätään koko kuvaajalle otsikko\n",
    "ax.set_ylabel(\"GWh\") # Lisätään y-akselille otsikko\n",
    "plt.xticks(rotation=90) # Käännettään x-akselin otsikot\n",
    "plt.ticklabel_format(style='plain', axis='y') # Poistetaan tieteellinen notaatio käytöstä, jotta saamme vertailukepoisia numeroita\n",
    "\n",
    "plt.show() # Tulostetaan kuvaaja"
   ]
  },
  {
   "cell_type": "markdown",
   "id": "lacXDj7ZJ9kt",
   "metadata": {
    "id": "lacXDj7ZJ9kt"
   },
   "source": [
    "### Alla piirretään kuvaaja valitsemastanne maasta. Koodi muistaa maavalinnan, sillä se on tallennettu muuttujaan."
   ]
  },
  {
   "cell_type": "code",
   "execution_count": null,
   "id": "BS_YHQPu84RO",
   "metadata": {
    "id": "BS_YHQPu84RO"
   },
   "outputs": [],
   "source": [
    "# Alustetaan muuttujat\n",
    "tot = {}\n",
    "date = []\n",
    "koodit_lista = []\n",
    "\n",
    "# Alustetaan dictionary uniikeilla siec koodeilla\n",
    "for i in maa_data[\"siec\"].unique():\n",
    "    tot[i] = 0\n",
    "\n",
    "\n",
    "# Täytetään siec koodien dictionary ja päivämää lista datalla\n",
    "for index, j in maa_data.iterrows():\n",
    "    tot[j.get(key = \"siec\")] += float(j.get(key = \"OBS_VALUE\"))\n",
    "    date.append(j.get(key = \"TIME_PERIOD\"))\n",
    "\n",
    "# Lisätään koodit listaan siec koodien selitykset\n",
    "for i in list(tot.keys()):\n",
    "    koodit_lista.append(codes.loc[codes[\"Notation\"] == i][\"Label\"].to_string(index=False))\n",
    "\n",
    "# Alustetaan kuvaaja\n",
    "fig, ax = plt.subplots(figsize=(10, 4))\n",
    "\n",
    "# Luodaan pylväsdiagrammi käsitellystä datasta\n",
    "ax.bar(koodit_lista, list(tot.values()))\n",
    "\n",
    "ax.set_title(f\"{maa} Energiatuotanto {min(date).strftime('%d.%m.%Y')}-{max(date).strftime('%d.%m.%Y')}\")  # Lisätään koko kuvaajalle otsikko\n",
    "ax.set_ylabel(\"GWh\") # Lisätään y-akselille otsikko\n",
    "plt.xticks(rotation=90) # Käännettään x-akselin otsikot\n",
    "plt.ticklabel_format(style='plain', axis='y') # Poistetaan tieteellinen notaatio käytöstä, jotta saamme vertailukepoisia numeroita\n",
    "\n",
    "plt.show() # Tulostetaan kuvaaja"
   ]
  },
  {
   "cell_type": "markdown",
   "id": "lRcCR8yBL9DC",
   "metadata": {
    "id": "lRcCR8yBL9DC"
   },
   "source": [
    "## **Kysymykset**\n",
    "\n",
    "1. Miten histogrammi koko Euroopassa tuotetusta energiasta eroaa teidän maan dataan esim. GWh määrässä tai käytetyissä energialähteissä?\n",
    "\n",
    "2. Miten histogrammi viime vuodesta eroaa histogrammin 2016- nykyhetkeen energiadatasta?"
   ]
  },
  {
   "cell_type": "markdown",
   "id": "Y7xPNMPqJE4g",
   "metadata": {
    "id": "Y7xPNMPqJE4g"
   },
   "source": [
    "# 3. Tuotettu energia ajan suhteen\n",
    "Valitse SIEC-koodien listasta energialähde tarkasteltavaksi (toinen kuin aurinkoenergia ja tuulivoima sillä niitä tarkasteltiin jo 1.osassa)\n",
    "Luo oma aika/ GWh kuvaaja valitusta maasta ja energialähteestä.\n",
    "Hyödynnä koodia 1.osan tehtävästä.\n",
    "Muista lisätä nimet x ja y-akselille ja koko kuvaajalle.\n",
    "\n",
    "| **SIEC**       | **Selitys**                                            |\n",
    "|----------------|--------------------------------------------------------|\n",
    "| **C0000**      | Coal and manufactured gases                            |\n",
    "| **CF**         | Combustible fuels                                      |\n",
    "| **CF_NR**      | Combustible fuels - non-renewable                      |\n",
    "| **CF_R**       | Combustible fuels - renewable                          |\n",
    "| **G3000**      | Natural gas                                            |\n",
    "| **N9000**      | Nuclear fuels and other fuels n.e.c.                   |\n",
    "| **O4000XBIO**  | Oil and petroleum products (excluding biofuel portion) |\n",
    "| **RA100**      | Hydro                                                  |\n",
    "| **RA110**      | Pure hydro power                                       |\n",
    "| **RA120**      | Mixed hydro power                                      |\n",
    "| **RA130**      | Pumped hydro power                                     |\n",
    "| **RA200**      | Geothermal                                             |\n",
    "| **RA300**      | Wind                                                   |\n",
    "| **RA310**      | Wind on shore                                          |\n",
    "| **RA320**      | Wind off shore                                         |\n",
    "| **RA400**      | Solar                                                  |\n",
    "| **RA410**      | Solar thermal                                          |\n",
    "| **RA420**      | Solar photovoltaic                                     |\n",
    "| **RA500_5160** | Other renewable energies                               |\n",
    "| **TOTAL**      | Total                                                  |\n",
    "| **X9900**      | Other fuels n.e.c.                                     |\n"
   ]
  },
  {
   "cell_type": "code",
   "execution_count": null,
   "id": "mCxC-6UBKyHM",
   "metadata": {
    "id": "mCxC-6UBKyHM"
   },
   "outputs": [],
   "source": [
    "# Muuta koodia, siten että luot kuvaajan omasta maasta ja valitusta energialähteestä.\n",
    "\n",
    "# Määritetään kuvaajan koko\n",
    "fig, ax1 = plt.subplots(figsize=(12, 8))\n",
    "\n",
    "# Määritetään kuvaajan väri. Kokeile vaihtaa viivan väriä!\n",
    "color = 'tab:red'\n",
    "\n",
    "# Lisää x ja y-akseleille otsikot!\n",
    "ax1.set_xlabel(\"Lisää x-akselin otsikko\")\n",
    "ax1.set_ylabel(\"Lisää y-akselin otsikko\", color=color)\n",
    "\n",
    "# Luodaan kuvaaja energialähteen tuotetusta määrästä ajan suhteen\n",
    "# Lisää SIEC-koodi valitsemastasi energialähteestä \"maa_data[\"siec\"] ==\" kohtien jälkeen\n",
    "energia_line, = ax1.plot(maa_data.loc[maa_data[\"siec\"] == \"Kirjoita tähän valitun energiamuodon SIEC koodi\"].TIME_PERIOD, maa_data.loc[maa_data[\"siec\"] == \"Kirjoita tähän valitun energiamuodon SIEC koodi\"].OBS_VALUE, color=color)\n",
    "\n",
    "\n",
    "ax1.tick_params(axis='y', labelcolor=color)\n",
    "ax1.set_ylim(bottom=0) # Määritetään 0 y-akselin minimiksi\n",
    "\n",
    "\n",
    "plt.legend([energia_line], ['Lisää otsikko']) # Lisää viivalle otsikko\n",
    "plt.title(f\"{maa}: Lisää otsikko\") # Lisää koko kuvaajalle otsikko\n",
    "plt.show() # Tulostetaan kuvaaja\n"
   ]
  },
  {
   "cell_type": "markdown",
   "id": "EWLvHRkxKyuN",
   "metadata": {
    "id": "EWLvHRkxKyuN"
   },
   "source": [
    "## **Kysymykset**\n",
    "\n",
    "1. Miten tuotettu energian määrä kehittyy ajan suhteen?\n",
    "\n",
    "2. Miten matalin ja korkein arvo GWh:ssa eroaa aurinkoenergiaan ja tuulivoimaan?\n",
    "\n",
    "3. Miten tuotettu energia vaihtelee vuodenajan mukaan?"
   ]
  },
  {
   "cell_type": "markdown",
   "id": "fEXrRAzkpCoR",
   "metadata": {
    "id": "fEXrRAzkpCoR"
   },
   "source": [
    "# Lisätehtävät\n",
    "1. Vaihda maata ja tee samat tehtävät. Mitä eroja huomaat maiden välillä? (Voit muuttaa maatasi ajamalla koodin jossa maa valittiin!)\n",
    "\n",
    "2. Selvitä aika/ GWh kuvaajasta aurinkoenergiasta Suomen aurinkoisin päivä 2016-nykyhetken välillä. Kokeile etsiä netistä säätietoa, saatko samanlaiset tulokset aurinkoisemmasta päivästä?\n",
    "\n",
    "\n",
    "3. Selvitä 2. tehtävän histogrammien perusteella missä maassa ollaan 2016-nykyhetken välillä tuotettu eniten vesivoima (Hydropower). Vertailkaa luokassa tiedän histogrammeja! Etsi netistä mikä maa Euroopassa tuottaa eniten vesivoimaa. Ovatko teidän tulokset samat?"
   ]
  },
  {
   "cell_type": "markdown",
   "id": "seJHABdG_eeF",
   "metadata": {
    "id": "seJHABdG_eeF"
   },
   "source": [
    "# Koodi joka piirtää kaikki energialähteet ajan suhteen\n",
    "Toistaiseksi vain demotarkoitukseen..."
   ]
  },
  {
   "cell_type": "code",
   "execution_count": null,
   "id": "1zcafQpY_iNw",
   "metadata": {
    "colab": {
     "base_uri": "https://localhost:8080/",
     "height": 992
    },
    "id": "1zcafQpY_iNw",
    "outputId": "f2485baf-bee6-4a9e-f75f-303aca56fc44"
   },
   "outputs": [],
   "source": [
    "s = {\"C0000\": \"Coal and manufactured gases\", \"CF\": \"Combustible fuels\", \"CF_NR\": \"Combustible fuels - non-renewable\", \"CF_R\": \"Combustible fuels - renewable\", \"G3000\": \"Natural gas\", \"N9000\": \"Nuclear fuels and other fuels n.e.c.\", \"O4000XBIO\": \"Oil and petroleum products (excluding biofuel portion)\", \"RA100\": \"Hydro\", \"RA110\": \"Pure hydro power\", \"RA120\": \"Mixed hydro power\", \"RA130\": \"Pumped hydro power\", \"RA200\": \"Geothermal\", \"RA300\": \"Wind\", \"RA310\": \"Wind on shore\", \"RA320\": \"Wind off shore\", \"RA400\": \"Solar\", \"RA410\": \"Solar thermal\", \"RA420\": \"Solar photovoltaic\", \"RA500_5160\": \"Other renewable energies\", \"TOTAL\": \"Total\", \"X9900\": \"Other fuels n.e.c.\"}\n",
    "\n",
    "\n",
    "plt.figure(figsize=(16,10), dpi=500)\n",
    "\n",
    "for i in maa_data[\"siec\"].unique():\n",
    "    plt.plot(maa_data.loc[maa_data[\"siec\"] == i].TIME_PERIOD, maa_data.loc[maa_data[\"siec\"] == i].OBS_VALUE, label=i)\n",
    "\n",
    "plt.legend()\n",
    "plt.grid( linestyle=':', linewidth=1, axis=\"y\")\n",
    "plt.gca().set(title=f\"{maa}: Energiamuodot\", xlabel=\"Päivämäärä\",ylabel=\"GWh\")"
   ]
  }
 ],
 "metadata": {
  "colab": {
   "provenance": []
  },
  "kernelspec": {
   "display_name": "Python 3 (ipykernel)",
   "language": "python",
   "name": "python3"
  },
  "language_info": {
   "codemirror_mode": {
    "name": "ipython",
    "version": 3
   },
   "file_extension": ".py",
   "mimetype": "text/x-python",
   "name": "python",
   "nbconvert_exporter": "python",
   "pygments_lexer": "ipython3",
   "version": "3.7.12"
  }
 },
 "nbformat": 4,
 "nbformat_minor": 5
}
